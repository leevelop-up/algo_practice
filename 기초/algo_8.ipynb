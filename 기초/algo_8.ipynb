{
 "cells": [
  {
   "cell_type": "code",
   "execution_count": 19,
   "metadata": {},
   "outputs": [
    {
     "ename": "KeyboardInterrupt",
     "evalue": "",
     "output_type": "error",
     "traceback": [
      "\u001b[0;31m---------------------------------------------------------------------------\u001b[0m",
      "\u001b[0;31mKeyboardInterrupt\u001b[0m                         Traceback (most recent call last)",
      "Cell \u001b[0;32mIn[19], line 32\u001b[0m\n\u001b[1;32m     29\u001b[0m     \u001b[39mprint\u001b[39m(count)\n\u001b[1;32m     31\u001b[0m \u001b[39mfor\u001b[39;00m i \u001b[39min\u001b[39;00m \u001b[39mrange\u001b[39m(T):\n\u001b[0;32m---> 32\u001b[0m     process()\n",
      "Cell \u001b[0;32mIn[19], line 26\u001b[0m, in \u001b[0;36mprocess\u001b[0;34m()\u001b[0m\n\u001b[1;32m     24\u001b[0m N, Candy \u001b[39m=\u001b[39m \u001b[39mint\u001b[39m(\u001b[39minput\u001b[39m()), \u001b[39mlist\u001b[39m(\u001b[39mmap\u001b[39m(\u001b[39mint\u001b[39m, \u001b[39minput\u001b[39m()\u001b[39m.\u001b[39msplit()))\n\u001b[1;32m     25\u001b[0m count \u001b[39m=\u001b[39m \u001b[39m0\u001b[39m\n\u001b[0;32m---> 26\u001b[0m \u001b[39mwhile\u001b[39;00m \u001b[39mnot\u001b[39;00m chkCandy(N, Candy):\n\u001b[1;32m     27\u001b[0m     count \u001b[39m+\u001b[39m\u001b[39m=\u001b[39m \u001b[39m1\u001b[39m\n\u001b[1;32m     28\u001b[0m     \u001b[39m#Candy = teacher(N, Candy)\u001b[39;00m\n",
      "Cell \u001b[0;32mIn[19], line 6\u001b[0m, in \u001b[0;36mchkCandy\u001b[0;34m(N, Candy)\u001b[0m\n\u001b[1;32m      5\u001b[0m \u001b[39mdef\u001b[39;00m \u001b[39mchkCandy\u001b[39m(N, Candy):    \n\u001b[0;32m----> 6\u001b[0m     \u001b[39mfor\u001b[39;00m idx \u001b[39min\u001b[39;00m \u001b[39mrange\u001b[39m(N):\n\u001b[1;32m      7\u001b[0m         \u001b[39mif\u001b[39;00m Candy[idx] \u001b[39m%\u001b[39m \u001b[39m2\u001b[39m \u001b[39m==\u001b[39m \u001b[39m1\u001b[39m:\n\u001b[1;32m      8\u001b[0m             Candy[idx] \u001b[39m+\u001b[39m\u001b[39m=\u001b[39m \u001b[39m1\u001b[39m\n",
      "\u001b[0;31mKeyboardInterrupt\u001b[0m: "
     ]
    }
   ],
   "source": [
    "T = int(input())\n",
    "\n",
    "#홀수개 이면 +1로 짝수를 맞춰주고 중복된 수의 경우 set함수로 제거\n",
    "#중복된 리스트의 값이 1개일 경우에는 사탕을 나눠주는 함수는 필요 없음\n",
    "def chkCandy(N, Candy):    \n",
    "    for idx in range(N):\n",
    "        if Candy[idx] % 2 == 1:\n",
    "            Candy[idx] += 1\n",
    "    return len(set(Candy)) == 1\n",
    "\n",
    "def teacher(N, Candy):\n",
    "    #옆사람에게 줄 값을 저장하기 위해 빈배열 생성\n",
    "    temp_list = [0 for i in range(N)]\n",
    "    for i in range(N):\n",
    "        if Candy[i] % 2 == 1:\n",
    "            Candy[i] +=1\n",
    "        Candy[i] //= 2\n",
    "        temp_list[(i+1) % N] = Candy[i]\n",
    "    for i in range(N):\n",
    "        Candy[i]+= temp_list[i]\n",
    "    return Candy\n",
    "\n",
    "def process():\n",
    "    N, Candy = int(input()), list(map(int, input().split()))\n",
    "    count = 0\n",
    "    while not chkCandy(N, Candy):\n",
    "        count += 1\n",
    "        Candy = teacher(N, Candy)\n",
    "    print(count)\n",
    "\n",
    "for i in range(T):\n",
    "    process()\n",
    "\n",
    "\n",
    "\n",
    "\n",
    "\n"
   ]
  },
  {
   "cell_type": "code",
   "execution_count": null,
   "metadata": {},
   "outputs": [
    {
     "data": {
      "text/plain": [
       "'\\n9037\\n입력은 표준입력(standard input)을 통해 받아들인다. 입력의 첫 줄에는 테스트 케이스의 개수 T가 주어진다. 각각의 테스트 케이스의 첫 줄에는 아이의 인원 N (1 ≤ N ≤ 10)이 주어지고 그 다음 줄에는 \\n각 아이들이 초기에 가지고 있는 사탕의 개수 Ci ( 1 ≤ i ≤ N, 1 ≤ Ci ≤ 30)가 주어진다. 분배 시 C1의 오른쪽에는 C2가, C2의 오른쪽에는 C3가…… 같은 식으로 앉게 되며 CN의 오른쪽에는 C1이 앉게 된다.\\n\\n출력\\n출력은 표준출력(standard output)을 통하여 출력한다. 각 테스트 케이스에 대하여 모든 아이가 같은 개수의 사탕을 가질 때까지 몇 순환이 걸리는지 출력하시오.\\n\\n예제 입력 1 \\n4\\n5\\n2 4 7 8 9\\n1\\n9\\n6\\n10 5 13 2 7 8\\n4\\n3 4 4 3\\n예제 출력 1 \\n6\\n0\\n4\\n0\\n\\n\\n'"
      ]
     },
     "execution_count": 18,
     "metadata": {},
     "output_type": "execute_result"
    }
   ],
   "source": [
    "\"\"\"\n",
    "9037\n",
    "입력은 표준입력(standard input)을 통해 받아들인다. 입력의 첫 줄에는 테스트 케이스의 개수 T가 주어진다. 각각의 테스트 케이스의 첫 줄에는 아이의 인원 N (1 ≤ N ≤ 10)이 주어지고 그 다음 줄에는 \n",
    "각 아이들이 초기에 가지고 있는 사탕의 개수 Ci ( 1 ≤ i ≤ N, 1 ≤ Ci ≤ 30)가 주어진다. 분배 시 C1의 오른쪽에는 C2가, C2의 오른쪽에는 C3가…… 같은 식으로 앉게 되며 CN의 오른쪽에는 C1이 앉게 된다.\n",
    "\n",
    "출력\n",
    "출력은 표준출력(standard output)을 통하여 출력한다. 각 테스트 케이스에 대하여 모든 아이가 같은 개수의 사탕을 가질 때까지 몇 순환이 걸리는지 출력하시오.\n",
    "\n",
    "예제 입력 1 \n",
    "4\n",
    "5\n",
    "2 4 7 8 9\n",
    "1\n",
    "9\n",
    "6\n",
    "10 5 13 2 7 8\n",
    "4\n",
    "3 4 4 3\n",
    "예제 출력 1 \n",
    "6\n",
    "0\n",
    "4\n",
    "0\n",
    "\n",
    "\n",
    "\"\"\""
   ]
  }
 ],
 "metadata": {
  "kernelspec": {
   "display_name": "Python 3",
   "language": "python",
   "name": "python3"
  },
  "language_info": {
   "codemirror_mode": {
    "name": "ipython",
    "version": 3
   },
   "file_extension": ".py",
   "mimetype": "text/x-python",
   "name": "python",
   "nbconvert_exporter": "python",
   "pygments_lexer": "ipython3",
   "version": "3.11.2"
  },
  "orig_nbformat": 4,
  "vscode": {
   "interpreter": {
    "hash": "aee8b7b246df8f9039afb4144a1f6fd8d2ca17a180786b69acc140d282b71a49"
   }
  }
 },
 "nbformat": 4,
 "nbformat_minor": 2
}
