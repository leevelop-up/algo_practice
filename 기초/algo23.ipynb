{
 "cells": [
  {
   "cell_type": "code",
   "execution_count": 20,
   "metadata": {},
   "outputs": [
    {
     "name": "stdout",
     "output_type": "stream",
     "text": [
      "5.50\n",
      "5.50\n"
     ]
    }
   ],
   "source": [
    "#\n",
    "# 7 2\n",
    "# 9.3\n",
    "# 9.5\n",
    "# 9.6\n",
    "# 9.8\n",
    "# 9.1\n",
    "# 5.0\n",
    "# 9.3\n",
    "#\n",
    "result_j = 0; #절사 평균\n",
    "result_B = 0;\n",
    "\n",
    "N,K= map(int, input().split())\n",
    "M = list()\n",
    "for i in range(N):\n",
    "    M.append(float(input()))\n",
    "\n",
    "Sort_array = sorted(M)\n",
    "array = Sort_array[K:-K]\n",
    "Change_F = array[0] #앞\n",
    "Change_l = array[-1] #뒤\n",
    "\n",
    "Sort_array[:2] = [Change_F]*3;\n",
    "Sort_array[-2:] = [Change_l]*3;\n",
    "\n",
    "result_j = sum(array)/len(array)\n",
    "result_B = sum(Sort_array)/len(Sort_array)\n",
    "\n",
    "print(\"%.2f\"%(result_j+0.00000001))\n",
    "print(\"%.2f\"%(result_B+0.00000001))\n",
    "\n"
   ]
  },
  {
   "cell_type": "code",
   "execution_count": null,
   "metadata": {},
   "outputs": [],
   "source": []
  },
  {
   "attachments": {},
   "cell_type": "markdown",
   "metadata": {},
   "source": []
  },
  {
   "attachments": {},
   "cell_type": "markdown",
   "metadata": {},
   "source": [
    "\""
   ]
  }
 ],
 "metadata": {
  "kernelspec": {
   "display_name": "Python 3",
   "language": "python",
   "name": "python3"
  },
  "language_info": {
   "codemirror_mode": {
    "name": "ipython",
    "version": 3
   },
   "file_extension": ".py",
   "mimetype": "text/x-python",
   "name": "python",
   "nbconvert_exporter": "python",
   "pygments_lexer": "ipython3",
   "version": "3.11.2"
  },
  "orig_nbformat": 4
 },
 "nbformat": 4,
 "nbformat_minor": 2
}
