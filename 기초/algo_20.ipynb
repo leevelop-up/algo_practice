{
 "cells": [
  {
   "cell_type": "code",
   "execution_count": 5,
   "metadata": {},
   "outputs": [
    {
     "ename": "NameError",
     "evalue": "name 'k' is not defined",
     "output_type": "error",
     "traceback": [
      "\u001b[0;31m---------------------------------------------------------------------------\u001b[0m",
      "\u001b[0;31mNameError\u001b[0m                                 Traceback (most recent call last)",
      "Cell \u001b[0;32mIn[5], line 13\u001b[0m\n\u001b[1;32m     11\u001b[0m \u001b[39mfor\u001b[39;00m i \u001b[39min\u001b[39;00m \u001b[39mrange\u001b[39m(N):\n\u001b[1;32m     12\u001b[0m     M \u001b[39m=\u001b[39m \u001b[39mlist\u001b[39m(\u001b[39mmap\u001b[39m(\u001b[39mint\u001b[39m, \u001b[39minput\u001b[39m()\u001b[39m.\u001b[39msplit(\u001b[39m'\u001b[39m\u001b[39m \u001b[39m\u001b[39m'\u001b[39m)))\n\u001b[0;32m---> 13\u001b[0m     rank(M)\n",
      "Cell \u001b[0;32mIn[5], line 9\u001b[0m, in \u001b[0;36mrank\u001b[0;34m(M)\u001b[0m\n\u001b[1;32m      6\u001b[0m rankM \u001b[39m=\u001b[39m M\n\u001b[1;32m      7\u001b[0m rankM \u001b[39m=\u001b[39m rankM\u001b[39m.\u001b[39msort()\n\u001b[0;32m----> 9\u001b[0m \u001b[39mprint\u001b[39m(k)\n",
      "\u001b[0;31mNameError\u001b[0m: name 'k' is not defined"
     ]
    }
   ],
   "source": [
    "\n",
    "N = int(input())\n",
    "\n",
    "rankM = list()\n",
    "\n",
    "def rank(M):\n",
    "    rankM = M\n",
    "    rankM = rankM.sort()\n",
    "   \n",
    "    print(rankM)\n",
    "\n",
    "for i in range(N):\n",
    "    M = list(map(int, input().split(' ')))\n",
    "    rank(M)\n",
    "    \n"
   ]
  },
  {
   "cell_type": "code",
   "execution_count": null,
   "metadata": {},
   "outputs": [
    {
     "data": {
      "text/plain": [
       "'\\n첫째 줄에 참가자의 수를 나타내는 정수 N이 주어진다.\\n이어 세 개의 줄에 각 대회의 결과를 나타내는 N개의 정수가 주어진다. 이중 i번째 정수는 그 대회에서 i번째 사람이 얻은 점수를 의미한다.\\n\\n출력형식\\n첫 세 개의 줄에는 각 참가자의 대회별 등수를 출력한다. 즉 이중 c번째 줄의 i번째 정수는 c번째 대회에서의 i번째 사람의 등수를 의미한다.\\n이어 새로운 줄에 같은 형식으로 각 참가자의 최종 등수를 출력한다.\\n\\n입력예제1\\n3\\n40 80 70\\n50 10 20\\n100 70 30\\n출력예제1\\n3 1 2\\n1 3 2\\n1 2 3\\n1 2 3\\n입력예제2\\n3\\n1000 1000 700\\n300 100 400\\n200 400 400\\n출력예제2\\n1 1 3\\n2 3 1\\n3 1 1\\n1 1 1\\n\\n\\n\\n'"
      ]
     },
     "execution_count": 31,
     "metadata": {},
     "output_type": "execute_result"
    }
   ],
   "source": [
    "\"\"\"\n",
    "첫째 줄에 참가자의 수를 나타내는 정수 N이 주어진다.\n",
    "이어 세 개의 줄에 각 대회의 결과를 나타내는 N개의 정수가 주어진다. 이중 i번째 정수는 그 대회에서 i번째 사람이 얻은 점수를 의미한다.\n",
    "\n",
    "출력형식\n",
    "첫 세 개의 줄에는 각 참가자의 대회별 등수를 출력한다. 즉 이중 c번째 줄의 i번째 정수는 c번째 대회에서의 i번째 사람의 등수를 의미한다.\n",
    "이어 새로운 줄에 같은 형식으로 각 참가자의 최종 등수를 출력한다.\n",
    "\n",
    "입력예제1\n",
    "3\n",
    "40 80 70\n",
    "50 10 20\n",
    "100 70 30\n",
    "출력예제1\n",
    "3 1 2\n",
    "1 3 2\n",
    "1 2 3\n",
    "1 2 3\n",
    "입력예제2\n",
    "3\n",
    "1000 1000 700\n",
    "300 100 400\n",
    "200 400 400\n",
    "출력예제2\n",
    "1 1 3\n",
    "2 3 1\n",
    "3 1 1\n",
    "1 1 1\n",
    "\n",
    "\n",
    "\n",
    "\"\"\""
   ]
  }
 ],
 "metadata": {
  "kernelspec": {
   "display_name": "Python 3",
   "language": "python",
   "name": "python3"
  },
  "language_info": {
   "codemirror_mode": {
    "name": "ipython",
    "version": 3
   },
   "file_extension": ".py",
   "mimetype": "text/x-python",
   "name": "python",
   "nbconvert_exporter": "python",
   "pygments_lexer": "ipython3",
   "version": "3.11.2"
  },
  "orig_nbformat": 4,
  "vscode": {
   "interpreter": {
    "hash": "aee8b7b246df8f9039afb4144a1f6fd8d2ca17a180786b69acc140d282b71a49"
   }
  }
 },
 "nbformat": 4,
 "nbformat_minor": 2
}
