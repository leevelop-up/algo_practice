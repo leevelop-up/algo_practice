{
 "cells": [
  {
   "cell_type": "code",
   "execution_count": 92,
   "metadata": {},
   "outputs": [
    {
     "ename": "IndexError",
     "evalue": "list index out of range",
     "output_type": "error",
     "traceback": [
      "\u001b[0;31m---------------------------------------------------------------------------\u001b[0m",
      "\u001b[0;31mIndexError\u001b[0m                                Traceback (most recent call last)",
      "Cell \u001b[0;32mIn[92], line 23\u001b[0m\n\u001b[1;32m     21\u001b[0m                     tasks[i]\u001b[39m.\u001b[39mappend(tasks[\u001b[39m2\u001b[39m\u001b[39m*\u001b[39mi\u001b[39m+\u001b[39m\u001b[39m2\u001b[39m]\u001b[39m.\u001b[39mpop(\u001b[39m0\u001b[39m))\n\u001b[1;32m     22\u001b[0m         \u001b[39melse\u001b[39;00m:  \u001b[39m# 내부 노드인 경우\u001b[39;00m\n\u001b[0;32m---> 23\u001b[0m             tasks[i] \u001b[39m+\u001b[39m\u001b[39m=\u001b[39m tasks[\u001b[39m2\u001b[39;49m\u001b[39m*\u001b[39;49mi\u001b[39m+\u001b[39;49m\u001b[39m1\u001b[39;49m] \u001b[39m+\u001b[39m tasks[\u001b[39m2\u001b[39m\u001b[39m*\u001b[39mi\u001b[39m+\u001b[39m\u001b[39m2\u001b[39m]  \u001b[39m# 자식 노드에서 가져온 업무 병합\u001b[39;00m\n\u001b[1;32m     25\u001b[0m \u001b[39mprint\u001b[39m(\u001b[39msum\u001b[39m(completed_tasks))\n",
      "\u001b[0;31mIndexError\u001b[0m: list index out of range"
     ]
    }
   ],
   "source": [
    "H, K, R = map(int, input().split())\n",
    "\n",
    "tasks = []\n",
    "for i in range(2**H-1):\n",
    "    if i < K:\n",
    "        tasks.append([int(input())])\n",
    "    else:\n",
    "        tasks.append([])\n",
    "\n",
    "completed_tasks = set()  # 완료된 업무 번호를 저장할 집합\n",
    "\n",
    "for day in range(1, R+1):\n",
    "    for i in range(2**(H-1)-1, -1, -1):  # 부서장부터 시작해서 아래로 내려가며 처리\n",
    "        if i >= 2**(H-2):  # 말단 직원일 경우\n",
    "            if tasks[i]:\n",
    "                completed_tasks.add(tasks[i].pop(0))  # 업무 처리\n",
    "            else:\n",
    "                if day % 2 == 1:  # 홀수 번째 날은 왼쪽 자식 노드로부터 업무 가져오기\n",
    "                    tasks[i].append(tasks[2*i+1].pop(0))\n",
    "                else:  # 짝수 번째 날은 오른쪽 자식 노드로부터 업무 가져오기\n",
    "                    tasks[i].append(tasks[2*i+2].pop(0))\n",
    "        else:  # 내부 노드인 경우\n",
    "            tasks[i] += tasks[2*i+1] + tasks[2*i+2]  # 자식 노드에서 가져온 업무 병합\n",
    "\n",
    "print(sum(completed_tasks))"
   ]
  },
  {
   "cell_type": "code",
   "execution_count": null,
   "metadata": {},
   "outputs": [
    {
     "data": {
      "text/plain": [
       "'\\n첫째 줄에 참가자의 수를 나타내는 정수 N이 주어진다.\\n이어 세 개의 줄에 각 대회의 결과를 나타내는 N개의 정수가 주어진다. 이중 i번째 정수는 그 대회에서 i번째 사람이 얻은 점수를 의미한다.\\n\\n출력형식\\n첫 세 개의 줄에는 각 참가자의 대회별 등수를 출력한다. 즉 이중 c번째 줄의 i번째 정수는 c번째 대회에서의 i번째 사람의 등수를 의미한다.\\n이어 새로운 줄에 같은 형식으로 각 참가자의 최종 등수를 출력한다.\\n\\n입력예제1\\n3\\n40 80 70\\n50 10 20\\n100 70 30\\n출력예제1\\n3 1 2\\n1 3 2\\n1 2 3\\n1 2 3\\n입력예제2\\n3\\n1000 1000 700\\n300 100 400\\n200 400 400\\n출력예제2\\n1 1 3\\n2 3 1\\n3 1 1\\n1 1 1\\n\\n\\n\\n'"
      ]
     },
     "execution_count": 91,
     "metadata": {},
     "output_type": "execute_result"
    }
   ],
   "source": [
    "\"\"\"\n",
    "첫째 줄에 참가자의 수를 나타내는 정수 N이 주어진다.\n",
    "이어 세 개의 줄에 각 대회의 결과를 나타내는 N개의 정수가 주어진다. 이중 i번째 정수는 그 대회에서 i번째 사람이 얻은 점수를 의미한다.\n",
    "\n",
    "출력형식\n",
    "첫 세 개의 줄에는 각 참가자의 대회별 등수를 출력한다. 즉 이중 c번째 줄의 i번째 정수는 c번째 대회에서의 i번째 사람의 등수를 의미한다.\n",
    "이어 새로운 줄에 같은 형식으로 각 참가자의 최종 등수를 출력한다.\n",
    "\n",
    "입력예제1\n",
    "3\n",
    "40 80 70\n",
    "50 10 20\n",
    "100 70 30\n",
    "출력예제1\n",
    "3 1 2\n",
    "1 3 2\n",
    "1 2 3\n",
    "1 2 3\n",
    "입력예제2\n",
    "3\n",
    "1000 1000 700\n",
    "300 100 400\n",
    "200 400 400\n",
    "출력예제2\n",
    "1 1 3\n",
    "2 3 1\n",
    "3 1 1\n",
    "1 1 1\n",
    "\n",
    "\n",
    "\n",
    "\"\"\""
   ]
  }
 ],
 "metadata": {
  "kernelspec": {
   "display_name": "Python 3",
   "language": "python",
   "name": "python3"
  },
  "language_info": {
   "codemirror_mode": {
    "name": "ipython",
    "version": 3
   },
   "file_extension": ".py",
   "mimetype": "text/x-python",
   "name": "python",
   "nbconvert_exporter": "python",
   "pygments_lexer": "ipython3",
   "version": "3.11.2"
  },
  "orig_nbformat": 4,
  "vscode": {
   "interpreter": {
    "hash": "aee8b7b246df8f9039afb4144a1f6fd8d2ca17a180786b69acc140d282b71a49"
   }
  }
 },
 "nbformat": 4,
 "nbformat_minor": 2
}
