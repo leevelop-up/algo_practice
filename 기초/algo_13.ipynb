{
 "cells": [
  {
   "cell_type": "code",
   "execution_count": 31,
   "metadata": {},
   "outputs": [
    {
     "name": "stdout",
     "output_type": "stream",
     "text": [
      "2\n"
     ]
    }
   ],
   "source": [
    "S = input()\n",
    "result = 0\n",
    "\n",
    "for i in range(len(S)):\n",
    "    if S[i] != S[i-1]:\n",
    "        result +=1\n",
    "\n",
    "print(result//2)\n"
   ]
  },
  {
   "cell_type": "code",
   "execution_count": 32,
   "metadata": {},
   "outputs": [
    {
     "data": {
      "text/plain": [
       "'\\n백준 1439\\n\\n예를 들어 S=0001100 일 때,\\n\\n전체를 뒤집으면 1110011이 된다.\\n4번째 문자부터 5번째 문자까지 뒤집으면 1111111이 되어서 2번 만에 모두 같은 숫자로 만들 수 있다.\\n하지만, 처음부터 4번째 문자부터 5번째 문자까지 문자를 뒤집으면 한 번에 0000000이 되어서 1번 만에 모두 같은 숫자로 만들 수 있다.\\n\\n문자열 S가 주어졌을 때, 다솜이가 해야하는 행동의 최소 횟수를 출력하시오.\\n\\n입력\\n첫째 줄에 문자열 S가 주어진다. S의 길이는 100만보다 작다.\\n\\n출력\\n첫째 줄에 다솜이가 해야하는 행동의 최소 횟수를 출력한다.\\n\\n예제 입력 1 \\n0001100\\n예제 출력 1 \\n1\\n예제 입력 2 \\n11111\\n예제 출력 2 \\n0\\n예제 입력 3 \\n00000001\\n예제 출력 3 \\n1\\n예제 입력 4 \\n11001100110011000001\\n예제 출력 4 \\n4\\n예제 입력 5 \\n11101101\\n예제 출력 5 \\n2\\n\\n\\n'"
      ]
     },
     "execution_count": 32,
     "metadata": {},
     "output_type": "execute_result"
    }
   ],
   "source": [
    "\"\"\"\n",
    "백준 1439\n",
    "\n",
    "예를 들어 S=0001100 일 때,\n",
    "\n",
    "전체를 뒤집으면 1110011이 된다.\n",
    "4번째 문자부터 5번째 문자까지 뒤집으면 1111111이 되어서 2번 만에 모두 같은 숫자로 만들 수 있다.\n",
    "하지만, 처음부터 4번째 문자부터 5번째 문자까지 문자를 뒤집으면 한 번에 0000000이 되어서 1번 만에 모두 같은 숫자로 만들 수 있다.\n",
    "\n",
    "문자열 S가 주어졌을 때, 다솜이가 해야하는 행동의 최소 횟수를 출력하시오.\n",
    "\n",
    "입력\n",
    "첫째 줄에 문자열 S가 주어진다. S의 길이는 100만보다 작다.\n",
    "\n",
    "출력\n",
    "첫째 줄에 다솜이가 해야하는 행동의 최소 횟수를 출력한다.\n",
    "\n",
    "예제 입력 1 \n",
    "0001100\n",
    "예제 출력 1 \n",
    "1\n",
    "예제 입력 2 \n",
    "11111\n",
    "예제 출력 2 \n",
    "0\n",
    "예제 입력 3 \n",
    "00000001\n",
    "예제 출력 3 \n",
    "1\n",
    "예제 입력 4 \n",
    "11001100110011000001\n",
    "예제 출력 4 \n",
    "4\n",
    "예제 입력 5 \n",
    "11101101\n",
    "예제 출력 5 \n",
    "2\n",
    "\n",
    "\n",
    "\"\"\""
   ]
  }
 ],
 "metadata": {
  "kernelspec": {
   "display_name": "Python 3",
   "language": "python",
   "name": "python3"
  },
  "language_info": {
   "codemirror_mode": {
    "name": "ipython",
    "version": 3
   },
   "file_extension": ".py",
   "mimetype": "text/x-python",
   "name": "python",
   "nbconvert_exporter": "python",
   "pygments_lexer": "ipython3",
   "version": "3.11.2"
  },
  "orig_nbformat": 4,
  "vscode": {
   "interpreter": {
    "hash": "aee8b7b246df8f9039afb4144a1f6fd8d2ca17a180786b69acc140d282b71a49"
   }
  }
 },
 "nbformat": 4,
 "nbformat_minor": 2
}
