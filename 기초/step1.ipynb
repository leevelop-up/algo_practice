{
 "cells": [
  {
   "cell_type": "code",
   "execution_count": 6,
   "metadata": {},
   "outputs": [
    {
     "name": "stdout",
     "output_type": "stream",
     "text": [
      "b\n"
     ]
    }
   ],
   "source": [
    "\n",
    "\n",
    "\n",
    "a = [[0 for i in range(4)] for j in range(5)]\n",
    "b = [[0 for i in range(4)] for j in range(5)]\n",
    "\n",
    "for i in range(5):\n",
    "    for j in range(4):\n",
    "        a[i][j] = 'a'\n",
    "\n",
    "for i in range(5):\n",
    "    for j in range(4):\n",
    "        b[i][j] = 'b'\n",
    "\n",
    "if a == b:\n",
    "    print('a')\n",
    "else:\n",
    "    print('b')\n",
    "\n"
   ]
  },
  {
   "cell_type": "code",
   "execution_count": 7,
   "metadata": {},
   "outputs": [
    {
     "data": {
      "text/plain": [
       "'\\n백준 2014\\n'"
      ]
     },
     "execution_count": 7,
     "metadata": {},
     "output_type": "execute_result"
    }
   ],
   "source": [
    "\"\"\"\n",
    "코딩 테스트 복기\n",
    "1.\n",
    "소수점 2째자리.. 0으로 표현\n",
    "1234.56 -> 1234.50 으로 보이도록\n",
    "둘째자리 함수사용하면 반올림 하여 1234.6 으로 보임.. 파이썬 함수 있을거 같은데.. 못찾아서 함수로 처리 못함\n",
    "2.\n",
    "A 와 B 배열 키값 비교하여 \n",
    "(1)A value에 있고 B value에없을때 카운트와 value값\n",
    "(2)A value에 없고 B value에 있을때 카운트와 value값\n",
    "(3)A 와 B key값 비교하여 B에 없는 키값의 카운트와 value (기억 가물가물..)\n",
    "\n",
    "\n",
    "\"\"\""
   ]
  }
 ],
 "metadata": {
  "kernelspec": {
   "display_name": "Python 3",
   "language": "python",
   "name": "python3"
  },
  "language_info": {
   "codemirror_mode": {
    "name": "ipython",
    "version": 3
   },
   "file_extension": ".py",
   "mimetype": "text/x-python",
   "name": "python",
   "nbconvert_exporter": "python",
   "pygments_lexer": "ipython3",
   "version": "3.11.2"
  },
  "orig_nbformat": 4,
  "vscode": {
   "interpreter": {
    "hash": "aee8b7b246df8f9039afb4144a1f6fd8d2ca17a180786b69acc140d282b71a49"
   }
  }
 },
 "nbformat": 4,
 "nbformat_minor": 2
}
