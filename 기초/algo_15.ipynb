{
 "cells": [
  {
   "cell_type": "code",
   "execution_count": 15,
   "metadata": {},
   "outputs": [
    {
     "name": "stdout",
     "output_type": "stream",
     "text": [
      "7\n"
     ]
    }
   ],
   "source": [
    "N, M = map(int, input().split())\n",
    "\n",
    "A = [list(map(int, input())) for _ in range(N)]\n",
    "B = [list(map(int, input())) for _ in range(N)]\n",
    "\n",
    "def flip(x,y,A):\n",
    "    for i in range(3):\n",
    "        for j in range(3):\n",
    "            A[x+i][y+j] ^= 1 # XOR 0xo1 = 1 1xo1 = 0\n",
    "        \n",
    "\n",
    "ans = 0\n",
    "for i in range(N-2):\n",
    "    for j in range(0, M-2):\n",
    "        if A[i][j] != B[i][j]:\n",
    "            flip(i,j,A)\n",
    "            ans +=1 \n",
    "\n",
    "print(ans if A==B else -1)\n"
   ]
  }
 ],
 "metadata": {
  "kernelspec": {
   "display_name": "Python 3",
   "language": "python",
   "name": "python3"
  },
  "language_info": {
   "codemirror_mode": {
    "name": "ipython",
    "version": 3
   },
   "file_extension": ".py",
   "mimetype": "text/x-python",
   "name": "python",
   "nbconvert_exporter": "python",
   "pygments_lexer": "ipython3",
   "version": "3.11.2"
  },
  "orig_nbformat": 4,
  "vscode": {
   "interpreter": {
    "hash": "aee8b7b246df8f9039afb4144a1f6fd8d2ca17a180786b69acc140d282b71a49"
   }
  }
 },
 "nbformat": 4,
 "nbformat_minor": 2
}
