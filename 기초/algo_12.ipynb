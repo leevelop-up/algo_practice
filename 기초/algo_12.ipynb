{
 "cells": [
  {
   "cell_type": "code",
   "execution_count": 18,
   "metadata": {},
   "outputs": [
    {
     "name": "stdout",
     "output_type": "stream",
     "text": [
      "100 1\n",
      "2 1\n",
      "2 100\n",
      "50 1\n",
      "50 100\n",
      "50 2\n",
      "60 1\n",
      "60 100\n",
      "60 2\n",
      "60 50\n",
      "3 1\n",
      "3 100\n",
      "3 2\n",
      "3 50\n",
      "3 60\n",
      "5 1\n",
      "5 100\n",
      "5 2\n",
      "5 50\n",
      "5 60\n",
      "5 3\n",
      "6 1\n",
      "6 100\n",
      "6 2\n",
      "6 50\n",
      "6 60\n",
      "6 3\n",
      "6 5\n",
      "7 1\n",
      "7 100\n",
      "7 2\n",
      "7 50\n",
      "7 60\n",
      "7 3\n",
      "7 5\n",
      "7 6\n",
      "8 1\n",
      "8 100\n",
      "8 2\n",
      "8 50\n",
      "8 60\n",
      "8 3\n",
      "8 5\n",
      "8 6\n",
      "8 7\n",
      "113\n"
     ]
    }
   ],
   "source": [
    "import copy\n",
    "N, A = int(input()), list(map(int, input().split()))\n",
    "#1 100 2 50 60 3 5 6 7 8\n",
    "DP = copy.deepcopy(A)\n",
    "for i in range(1, N):\n",
    "    for j in range(i):\n",
    "        print(A[i], A[j])\n",
    "        if A[i] > A[j] and DP[i] <A[i]+DP[j]:\n",
    "            DP[i] = A[i]+DP[j]\n",
    "\n",
    "print(max(DP))\n",
    "\n",
    "\n",
    "\n",
    "\n",
    "\n"
   ]
  },
  {
   "cell_type": "code",
   "execution_count": 19,
   "metadata": {},
   "outputs": [
    {
     "data": {
      "text/plain": [
       "'\\n백준 수열 11055\\n문제\\n수열 A가 주어졌을 때, 그 수열의 증가 부분 수열 중에서 합이 가장 큰 것을 구하는 프로그램을 작성하시오.\\n\\n예를 들어, 수열 A = {1, 100, 2, 50, 60, 3, 5, 6, 7, 8} 인 경우에 합이 가장 큰 증가 부분 수열은 A = {1, 100, 2, 50, 60, 3, 5, 6, 7, 8} 이고, 합은 113이다.\\n\\n입력\\n첫째 줄에 수열 A의 크기 N (1 ≤ N ≤ 1,000)이 주어진다.\\n\\n둘째 줄에는 수열 A를 이루고 있는 Ai가 주어진다. (1 ≤ Ai ≤ 1,000)\\n\\n출력\\n첫째 줄에 수열 A의 합이 가장 큰 증가 부분 수열의 합을 출력한다.\\n\\n예제 입력 1 \\n10\\n1 100 2 50 60 3 5 6 7 8\\n예제 출력 1 \\n113\\n\\n'"
      ]
     },
     "execution_count": 19,
     "metadata": {},
     "output_type": "execute_result"
    }
   ],
   "source": [
    "\"\"\"\n",
    "백준 수열 11055\n",
    "문제\n",
    "수열 A가 주어졌을 때, 그 수열의 증가 부분 수열 중에서 합이 가장 큰 것을 구하는 프로그램을 작성하시오.\n",
    "\n",
    "예를 들어, 수열 A = {1, 100, 2, 50, 60, 3, 5, 6, 7, 8} 인 경우에 합이 가장 큰 증가 부분 수열은 A = {1, 100, 2, 50, 60, 3, 5, 6, 7, 8} 이고, 합은 113이다.\n",
    "\n",
    "입력\n",
    "첫째 줄에 수열 A의 크기 N (1 ≤ N ≤ 1,000)이 주어진다.\n",
    "\n",
    "둘째 줄에는 수열 A를 이루고 있는 Ai가 주어진다. (1 ≤ Ai ≤ 1,000)\n",
    "\n",
    "출력\n",
    "첫째 줄에 수열 A의 합이 가장 큰 증가 부분 수열의 합을 출력한다.\n",
    "\n",
    "예제 입력 1 \n",
    "10\n",
    "1 100 2 50 60 3 5 6 7 8\n",
    "예제 출력 1 \n",
    "113\n",
    "\n",
    "\"\"\""
   ]
  }
 ],
 "metadata": {
  "kernelspec": {
   "display_name": "Python 3",
   "language": "python",
   "name": "python3"
  },
  "language_info": {
   "codemirror_mode": {
    "name": "ipython",
    "version": 3
   },
   "file_extension": ".py",
   "mimetype": "text/x-python",
   "name": "python",
   "nbconvert_exporter": "python",
   "pygments_lexer": "ipython3",
   "version": "3.11.2"
  },
  "orig_nbformat": 4,
  "vscode": {
   "interpreter": {
    "hash": "aee8b7b246df8f9039afb4144a1f6fd8d2ca17a180786b69acc140d282b71a49"
   }
  }
 },
 "nbformat": 4,
 "nbformat_minor": 2
}
