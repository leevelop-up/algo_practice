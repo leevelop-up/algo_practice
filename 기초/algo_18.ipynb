{
 "cells": [
  {
   "cell_type": "code",
   "execution_count": 18,
   "metadata": {},
   "outputs": [
    {
     "name": "stdout",
     "output_type": "stream",
     "text": [
      "[1, 2, 3, 4, 5]\n"
     ]
    }
   ],
   "source": [
    "\n",
    "def merge(array):\n",
    "    if len(array) <=1:\n",
    "        return array\n",
    "    \n",
    "    mid = len(array) //2\n",
    "    left = merge(array[:mid])\n",
    "    right = merge(array[mid:])\n",
    "    i,j,k = 0,0,0\n",
    "\n",
    "    while i < len(left) and j < len(right):\n",
    "        #왼쪽이 작으면 빈배열에 왼쪽값 입력 아니면 오른쪽값 입력\n",
    "        if left[i] < right[j]:\n",
    "            array[k] = left[i]\n",
    "            i +=1\n",
    "        elif left[i] > right[j]:\n",
    "            array[k] = right[k]\n",
    "            j+=1\n",
    "        k+=1    \n",
    "    \n",
    "    if i == len(left):\n",
    "        while j < len(right):\n",
    "            array[k] = right[j]\n",
    "            k+=1\n",
    "            j+=1\n",
    "\n",
    "    elif j == len(right):\n",
    "        while i < len(left):\n",
    "            array[k] = left[i]\n",
    "            k += 1\n",
    "            i += 1\n",
    "    return array\n",
    "\n",
    "\n",
    "\n",
    "N = int(input())\n",
    "array = []\n",
    "for i in range(N):\n",
    "    array.append(int(input()))\n",
    "\n",
    "result = merge(array)\n",
    "\n",
    "print(result)\n"
   ]
  },
  {
   "cell_type": "code",
   "execution_count": 19,
   "metadata": {},
   "outputs": [
    {
     "data": {
      "text/plain": [
       "'\\n백준 2751\\n\\n첫째 줄에 수의 개수 N(1 ≤ N ≤ 1,000,000)이 주어진다. 둘째 줄부터 N개의 줄에는 수가 주어진다. 이 수는 절댓값이 1,000,000보다 작거나 같은 정수이다. 수는 중복되지 않는다.\\n\\n출력\\n첫째 줄부터 N개의 줄에 오름차순으로 정렬한 결과를 한 줄에 하나씩 출력한다.\\n\\n예제 입력 1 \\n5\\n5\\n4\\n3\\n2\\n1\\n예제 출력 1 \\n1\\n2\\n3\\n4\\n5\\n'"
      ]
     },
     "execution_count": 19,
     "metadata": {},
     "output_type": "execute_result"
    }
   ],
   "source": [
    "\"\"\"\n",
    "백준 2751\n",
    "\n",
    "첫째 줄에 수의 개수 N(1 ≤ N ≤ 1,000,000)이 주어진다. 둘째 줄부터 N개의 줄에는 수가 주어진다. 이 수는 절댓값이 1,000,000보다 작거나 같은 정수이다. 수는 중복되지 않는다.\n",
    "\n",
    "출력\n",
    "첫째 줄부터 N개의 줄에 오름차순으로 정렬한 결과를 한 줄에 하나씩 출력한다.\n",
    "\n",
    "예제 입력 1 \n",
    "5\n",
    "5\n",
    "4\n",
    "3\n",
    "2\n",
    "1\n",
    "예제 출력 1 \n",
    "1\n",
    "2\n",
    "3\n",
    "4\n",
    "5\n",
    "\"\"\""
   ]
  }
 ],
 "metadata": {
  "kernelspec": {
   "display_name": "Python 3",
   "language": "python",
   "name": "python3"
  },
  "language_info": {
   "codemirror_mode": {
    "name": "ipython",
    "version": 3
   },
   "file_extension": ".py",
   "mimetype": "text/x-python",
   "name": "python",
   "nbconvert_exporter": "python",
   "pygments_lexer": "ipython3",
   "version": "3.11.2"
  },
  "orig_nbformat": 4,
  "vscode": {
   "interpreter": {
    "hash": "aee8b7b246df8f9039afb4144a1f6fd8d2ca17a180786b69acc140d282b71a49"
   }
  }
 },
 "nbformat": 4,
 "nbformat_minor": 2
}
