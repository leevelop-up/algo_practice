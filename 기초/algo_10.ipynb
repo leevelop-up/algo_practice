{
 "cells": [
  {
   "cell_type": "code",
   "execution_count": 8,
   "metadata": {},
   "outputs": [
    {
     "name": "stdout",
     "output_type": "stream",
     "text": [
      "0000000000\n",
      "0000000300\n",
      "0054000300\n",
      "1054500030\n",
      "2200000000\n",
      "0000000003\n"
     ]
    }
   ],
   "source": [
    "\n",
    "def new_arr(N):\n",
    "    return [[False for i in range(10)] for _ in range(N)]\n",
    "\n",
    "N, K = map(int, input().split())\n",
    "M = [list(input()) for _ in range(N)]\n",
    "\n",
    "\n",
    "ck = new_arr(N)\n",
    "ck2 = new_arr(N)\n",
    "\n",
    "dx, dy = [0,1,0,-1],[1,0,-1,0]\n",
    "\n",
    "def dfs(x, y):\n",
    "    res = 1\n",
    "    ck[x][y] = True\n",
    "    for i in range(4):\n",
    "        xx, yy = x+dx[i], y+dy[i]\n",
    "        if xx < 0 or xx>=N or yy< 0 or yy>= 10:\n",
    "            continue\n",
    "        if ck[xx][yy] or M[x][y] != M[xx][yy]:\n",
    "            continue\n",
    "        res +=dfs(xx,yy)\n",
    "    return res\n",
    "\n",
    "def dfs2(x,y, val):\n",
    "    ck2[x][y] = True\n",
    "    M[x][y] = '0'\n",
    "    for i in range(4):\n",
    "        xx, yy = x+dx[i], y+dy[i]\n",
    "        if xx < 0 or xx>=N or yy< 0 or yy>= 10:\n",
    "            continue\n",
    "        if ck2[xx][yy] or M[xx][yy] != val:\n",
    "            continue\n",
    "        dfs2(xx,yy,val)\n",
    "\n",
    "def down():\n",
    "    for i in range(10):\n",
    "        temp = []\n",
    "        for j in range(N):\n",
    "            if M[j][i] != '0':\n",
    "                temp.append(M[j][i])\n",
    "        for j in range(N-len(temp)):\n",
    "            M[j][i] = '0'\n",
    "        for j in range(N-len(temp), N):\n",
    "            M[j][i] = temp[j-(N-len(temp))]    \n",
    "\n",
    "\n",
    "while True:\n",
    "    exist = False\n",
    "    ck = new_arr(N)\n",
    "    ck2 = new_arr(N)\n",
    "    for i in range(N):\n",
    "        for j in range(10):\n",
    "            if M[i][j] == '0' or ck[i][j]:\n",
    "                continue\n",
    "            res = dfs(i, j) #개수 세기\n",
    "            if res >= K:\n",
    "                dfs2(i, j, M[i][j]) # 지우기\n",
    "                exist = True\n",
    "    \n",
    "    if not exist:\n",
    "        break\n",
    "    down()# 내리기\n",
    "\n",
    "for i in M:\n",
    "    print(''.join(i))\n",
    "\n",
    "\n"
   ]
  },
  {
   "cell_type": "code",
   "execution_count": 9,
   "metadata": {},
   "outputs": [
    {
     "data": {
      "text/plain": [
       "'\\n백준 14620\\n6 3\\n0000000000\\n0000000300\\n0054000300\\n1054502230\\n2211122220\\n1111111223\\n\\n\\n'"
      ]
     },
     "execution_count": 9,
     "metadata": {},
     "output_type": "execute_result"
    }
   ],
   "source": [
    "\"\"\"\n",
    "백준 14620\n",
    "6 3\n",
    "0000000000\n",
    "0000000300\n",
    "0054000300\n",
    "1054502230\n",
    "2211122220\n",
    "1111111223\n",
    "\n",
    "\n",
    "\"\"\""
   ]
  }
 ],
 "metadata": {
  "kernelspec": {
   "display_name": "Python 3",
   "language": "python",
   "name": "python3"
  },
  "language_info": {
   "codemirror_mode": {
    "name": "ipython",
    "version": 3
   },
   "file_extension": ".py",
   "mimetype": "text/x-python",
   "name": "python",
   "nbconvert_exporter": "python",
   "pygments_lexer": "ipython3",
   "version": "3.11.2"
  },
  "orig_nbformat": 4,
  "vscode": {
   "interpreter": {
    "hash": "aee8b7b246df8f9039afb4144a1f6fd8d2ca17a180786b69acc140d282b71a49"
   }
  }
 },
 "nbformat": 4,
 "nbformat_minor": 2
}
