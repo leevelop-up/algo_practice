{
 "cells": [
  {
   "cell_type": "code",
   "execution_count": 7,
   "metadata": {},
   "outputs": [
    {
     "name": "stdout",
     "output_type": "stream",
     "text": [
      "[[0, 0, 0, 0, 0, 0, 0, 0, 0, 0], [0, 0, 0, 0, 0, 0, 0, 0, 0, 0], [0, 0, 0, 0, 0, 0, 0, 0, 0, 0], [0, 0, 0, 0, 0, 0, 0, 0, 0, 0], [0, 0, 0, 0, 0, 0, 0, 0, 0, 0], [0, 0, 0, 0, 0, 0, 0, 0, 0, 0]]\n"
     ]
    }
   ],
   "source": [
    "N, K = map(int, input().split())\n",
    "M = [list(input()) for _ in range(N)]\n",
    "new_arr = [[0 for i in range(10)] for _ in range(N)]\n",
    "\n",
    "print(new_arr)\n",
    "\n",
    "\n",
    "while True:\n",
    "    exist = False\n",
    "    ck = new_arr\n",
    "    for i in range(N):\n",
    "        for j in range(10):\n",
    "            if M[i][j] == 0 or ck[i][j]:\n",
    "                continue\n",
    "            res = dfs(i, j)\n",
    "            if res >= k:\n",
    "                dfs2(i, j)\n",
    "    \n",
    "    if exist:\n",
    "        break\n",
    "    down()\n",
    "\n",
    "for i in range(N):\n",
    "    print(''.join(i))\n",
    "\n",
    "\n"
   ]
  },
  {
   "cell_type": "code",
   "execution_count": 8,
   "metadata": {},
   "outputs": [
    {
     "data": {
      "text/plain": [
       "'\\n백준 14620\\n6 3\\n0000000000\\n0000000300\\n0054000300\\n1054502230\\n2211122220\\n1111111223\\n\\n\\n'"
      ]
     },
     "execution_count": 8,
     "metadata": {},
     "output_type": "execute_result"
    }
   ],
   "source": [
    "\"\"\"\n",
    "백준 14620\n",
    "6 3\n",
    "0000000000\n",
    "0000000300\n",
    "0054000300\n",
    "1054502230\n",
    "2211122220\n",
    "1111111223\n",
    "\n",
    "\n",
    "\"\"\""
   ]
  }
 ],
 "metadata": {
  "kernelspec": {
   "display_name": "Python 3",
   "language": "python",
   "name": "python3"
  },
  "language_info": {
   "codemirror_mode": {
    "name": "ipython",
    "version": 3
   },
   "file_extension": ".py",
   "mimetype": "text/x-python",
   "name": "python",
   "nbconvert_exporter": "python",
   "pygments_lexer": "ipython3",
   "version": "3.11.2"
  },
  "orig_nbformat": 4,
  "vscode": {
   "interpreter": {
    "hash": "aee8b7b246df8f9039afb4144a1f6fd8d2ca17a180786b69acc140d282b71a49"
   }
  }
 },
 "nbformat": 4,
 "nbformat_minor": 2
}
