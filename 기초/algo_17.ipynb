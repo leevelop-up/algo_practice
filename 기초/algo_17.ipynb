{
 "cells": [
  {
   "cell_type": "code",
   "execution_count": null,
   "metadata": {},
   "outputs": [
    {
     "ename": "ValueError",
     "evalue": "not enough values to unpack (expected 2, got 0)",
     "output_type": "error",
     "traceback": [
      "\u001b[0;31m---------------------------------------------------------------------------\u001b[0m",
      "\u001b[0;31mValueError\u001b[0m                                Traceback (most recent call last)",
      "Cell \u001b[0;32mIn[1], line 1\u001b[0m\n\u001b[0;32m----> 1\u001b[0m W, N \u001b[39m=\u001b[39m \u001b[39mmap\u001b[39m(\u001b[39mint\u001b[39m, \u001b[39minput\u001b[39m()\u001b[39m.\u001b[39msplit())\n\u001b[1;32m      2\u001b[0m mn \u001b[39m=\u001b[39m \u001b[39mlist\u001b[39m()\n\u001b[1;32m      3\u001b[0m j \u001b[39m=\u001b[39m [\u001b[39mlist\u001b[39m(\u001b[39mmap\u001b[39m(\u001b[39mint\u001b[39m, \u001b[39minput\u001b[39m()\u001b[39m.\u001b[39msplit())) \u001b[39mfor\u001b[39;00m _ \u001b[39min\u001b[39;00m \u001b[39mrange\u001b[39m(N)]\n",
      "\u001b[0;31mValueError\u001b[0m: not enough values to unpack (expected 2, got 0)"
     ]
    }
   ],
   "source": [
    "def solution(n, c, d, a, b):\n",
    "    answer = 0\n",
    "    g1_group = [] #1그룹\n",
    "    g2_group = [] #2그룹\n",
    "    for i in range(n):\n",
    "        #소문자 대문자 구별\n",
    "        if a[i][0].islower():\n",
    "            g1_group.append(b[i])\n",
    "        else:\n",
    "            g2_group.append(b[i])\n",
    "\n",
    "    if g1_group:\n",
    "        tax = sum(don * c // 100 for don in g1_group)\n",
    "        answer += sum(g1_group) - tax\n",
    "\n",
    "    if g2_group:\n",
    "        tax = d * len(g2_group)**2\n",
    "        answer += sum(g2_group) - tax\n",
    "\n",
    "    return answer\n",
    "\n",
    "n = 2\n",
    "c = 100\n",
    "d = 10\n",
    "a = [\"fan\", \"Fan\"]\n",
    "b = [1, 2]\n",
    "result = solution(n, c, d, a, b)\n",
    "print(result)"
   ]
  },
  {
   "cell_type": "code",
   "execution_count": null,
   "metadata": {},
   "outputs": [
    {
     "data": {
      "text/plain": [
       "'\\n루팡은 배낭을 하나 메고 은행금고에 들어왔다. 금고 안에는 값비싼 금, 은, 백금 등의 귀금속 덩어리가 잔뜩 들어있다. 배낭은 W ㎏까지 담을 수 있다.\\n\\n\\n\\n각 금속의 무게와 무게당 가격이 주어졌을 때 배낭을 채울 수 있는 가장 값비싼 가격은 얼마인가?\\n\\n\\n\\n루팡은 전동톱을 가지고 있으며 귀금속은 톱으로 자르면 잘려진 부분의 무게만큼 가치를 가진다.\\n\\n제약조건\\n1 ≤ N ≤ 106인 정수\\n\\n1 ≤ W ≤ 104인 정수\\n\\n1 ≤ Mi, Pi ≤ 104인 정수\\n\\n입력형식\\n첫 번째 줄에 배낭의 무게 W와 귀금속의 종류 N이 주어진다. i + 1 (1 ≤ i ≤ N)번째 줄에는 i번째 금속의 무게 Mi와 무게당 가격 Pi가 주어진다.\\n\\n출력형식\\n첫 번째 줄에 배낭에 담을 수 있는 가장 비싼 가격을 출력하라.\\n\\n입력예제1\\n100 2\\n90 1\\n70 2\\n출력예제1\\n170\\n\\n\\n'"
      ]
     },
     "execution_count": 16,
     "metadata": {},
     "output_type": "execute_result"
    }
   ],
   "source": [
    "\"\"\"\n",
    "루팡은 배낭을 하나 메고 은행금고에 들어왔다. 금고 안에는 값비싼 금, 은, 백금 등의 귀금속 덩어리가 잔뜩 들어있다. 배낭은 W ㎏까지 담을 수 있다.\n",
    "\n",
    "\n",
    "\n",
    "각 금속의 무게와 무게당 가격이 주어졌을 때 배낭을 채울 수 있는 가장 값비싼 가격은 얼마인가?\n",
    "\n",
    "\n",
    "\n",
    "루팡은 전동톱을 가지고 있으며 귀금속은 톱으로 자르면 잘려진 부분의 무게만큼 가치를 가진다.\n",
    "\n",
    "제약조건\n",
    "1 ≤ N ≤ 106인 정수\n",
    "\n",
    "1 ≤ W ≤ 104인 정수\n",
    "\n",
    "1 ≤ Mi, Pi ≤ 104인 정수\n",
    "\n",
    "입력형식\n",
    "첫 번째 줄에 배낭의 무게 W와 귀금속의 종류 N이 주어진다. i + 1 (1 ≤ i ≤ N)번째 줄에는 i번째 금속의 무게 Mi와 무게당 가격 Pi가 주어진다.\n",
    "\n",
    "출력형식\n",
    "첫 번째 줄에 배낭에 담을 수 있는 가장 비싼 가격을 출력하라.\n",
    "\n",
    "입력예제1\n",
    "100 2\n",
    "90 1\n",
    "70 2\n",
    "출력예제1\n",
    "170\n",
    "\n",
    "\n",
    "\"\"\""
   ]
  }
 ],
 "metadata": {
  "kernelspec": {
   "display_name": "Python 3",
   "language": "python",
   "name": "python3"
  },
  "language_info": {
   "codemirror_mode": {
    "name": "ipython",
    "version": 3
   },
   "file_extension": ".py",
   "mimetype": "text/x-python",
   "name": "python",
   "nbconvert_exporter": "python",
   "pygments_lexer": "ipython3",
   "version": "3.11.2"
  },
  "orig_nbformat": 4,
  "vscode": {
   "interpreter": {
    "hash": "aee8b7b246df8f9039afb4144a1f6fd8d2ca17a180786b69acc140d282b71a49"
   }
  }
 },
 "nbformat": 4,
 "nbformat_minor": 2
}
