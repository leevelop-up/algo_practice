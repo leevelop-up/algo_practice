{
 "cells": [
  {
   "cell_type": "code",
   "execution_count": 15,
   "metadata": {},
   "outputs": [
    {
     "name": "stdout",
     "output_type": "stream",
     "text": [
      "170\n"
     ]
    }
   ],
   "source": [
    "W, N = map(int, input().split())\n",
    "mn = list()\n",
    "j = [list(map(int, input().split())) for _ in range(N)]\n",
    "\n",
    "j.sort(key = lambda x:x[1], reverse=True)   \n",
    "\n",
    "result = 0\n",
    "for weight, price in j:\n",
    "    \n",
    "    if W > weight:\n",
    "        result += weight*price\n",
    "        W -= weight\n",
    "    else:\n",
    "        result += W*price\n",
    "        break   \n",
    "\n",
    "print(result)"
   ]
  },
  {
   "cell_type": "code",
   "execution_count": 16,
   "metadata": {},
   "outputs": [
    {
     "data": {
      "text/plain": [
       "'\\n루팡은 배낭을 하나 메고 은행금고에 들어왔다. 금고 안에는 값비싼 금, 은, 백금 등의 귀금속 덩어리가 잔뜩 들어있다. 배낭은 W ㎏까지 담을 수 있다.\\n\\n\\n\\n각 금속의 무게와 무게당 가격이 주어졌을 때 배낭을 채울 수 있는 가장 값비싼 가격은 얼마인가?\\n\\n\\n\\n루팡은 전동톱을 가지고 있으며 귀금속은 톱으로 자르면 잘려진 부분의 무게만큼 가치를 가진다.\\n\\n제약조건\\n1 ≤ N ≤ 106인 정수\\n\\n1 ≤ W ≤ 104인 정수\\n\\n1 ≤ Mi, Pi ≤ 104인 정수\\n\\n입력형식\\n첫 번째 줄에 배낭의 무게 W와 귀금속의 종류 N이 주어진다. i + 1 (1 ≤ i ≤ N)번째 줄에는 i번째 금속의 무게 Mi와 무게당 가격 Pi가 주어진다.\\n\\n출력형식\\n첫 번째 줄에 배낭에 담을 수 있는 가장 비싼 가격을 출력하라.\\n\\n입력예제1\\n100 2\\n90 1\\n70 2\\n출력예제1\\n170\\n\\n\\n'"
      ]
     },
     "execution_count": 16,
     "metadata": {},
     "output_type": "execute_result"
    }
   ],
   "source": [
    "\"\"\"\n",
    "루팡은 배낭을 하나 메고 은행금고에 들어왔다. 금고 안에는 값비싼 금, 은, 백금 등의 귀금속 덩어리가 잔뜩 들어있다. 배낭은 W ㎏까지 담을 수 있다.\n",
    "\n",
    "\n",
    "\n",
    "각 금속의 무게와 무게당 가격이 주어졌을 때 배낭을 채울 수 있는 가장 값비싼 가격은 얼마인가?\n",
    "\n",
    "\n",
    "\n",
    "루팡은 전동톱을 가지고 있으며 귀금속은 톱으로 자르면 잘려진 부분의 무게만큼 가치를 가진다.\n",
    "\n",
    "제약조건\n",
    "1 ≤ N ≤ 106인 정수\n",
    "\n",
    "1 ≤ W ≤ 104인 정수\n",
    "\n",
    "1 ≤ Mi, Pi ≤ 104인 정수\n",
    "\n",
    "입력형식\n",
    "첫 번째 줄에 배낭의 무게 W와 귀금속의 종류 N이 주어진다. i + 1 (1 ≤ i ≤ N)번째 줄에는 i번째 금속의 무게 Mi와 무게당 가격 Pi가 주어진다.\n",
    "\n",
    "출력형식\n",
    "첫 번째 줄에 배낭에 담을 수 있는 가장 비싼 가격을 출력하라.\n",
    "\n",
    "입력예제1\n",
    "100 2\n",
    "90 1\n",
    "70 2\n",
    "출력예제1\n",
    "170\n",
    "\n",
    "\n",
    "\"\"\""
   ]
  }
 ],
 "metadata": {
  "kernelspec": {
   "display_name": "Python 3",
   "language": "python",
   "name": "python3"
  },
  "language_info": {
   "codemirror_mode": {
    "name": "ipython",
    "version": 3
   },
   "file_extension": ".py",
   "mimetype": "text/x-python",
   "name": "python",
   "nbconvert_exporter": "python",
   "pygments_lexer": "ipython3",
   "version": "3.11.2"
  },
  "orig_nbformat": 4,
  "vscode": {
   "interpreter": {
    "hash": "aee8b7b246df8f9039afb4144a1f6fd8d2ca17a180786b69acc140d282b71a49"
   }
  }
 },
 "nbformat": 4,
 "nbformat_minor": 2
}
