{
 "cells": [
  {
   "cell_type": "code",
   "execution_count": 9,
   "metadata": {},
   "outputs": [
    {
     "name": "stdout",
     "output_type": "stream",
     "text": [
      "a a\n",
      "a a a a a\n",
      "2\n"
     ]
    }
   ],
   "source": [
    "document = input()\n",
    "text = input()\n",
    "result = 0\n",
    "index = 0\n",
    "textcnt = len(text)\n",
    "for i in range(len(document)) :\n",
    "    if document[index:textcnt] == text:\n",
    "        result +=1\n",
    "        textcnt += textcnt\n",
    "        index += textcnt\n",
    "    else:\n",
    "        textcnt +=1\n",
    "print(result)"
   ]
  },
  {
   "cell_type": "code",
   "execution_count": 10,
   "metadata": {},
   "outputs": [
    {
     "data": {
      "text/plain": [
       "'\\n\\n입력\\n첫째 줄에 문서가 주어진다. 문서의 길이는 최대 2500이다. 둘째 줄에 검색하고 싶은 단어가 주어진다. 이 길이는 최대 50이다. 문서와 단어는 알파벳 소문자와 공백으로 이루어져 있다.\\n\\n출력\\n첫째 줄에 중복되지 않게 최대 몇 번 등장하는지 출력한다.\\n\\n예제 입력 1 \\nababababa\\naba\\n예제 출력 1 \\n2\\n예제 입력 2 \\na a a a a\\na a\\n예제 출력 2 \\n2\\n\\n'"
      ]
     },
     "execution_count": 10,
     "metadata": {},
     "output_type": "execute_result"
    }
   ],
   "source": [
    "\"\"\"\n",
    "\n",
    "입력\n",
    "첫째 줄에 문서가 주어진다. 문서의 길이는 최대 2500이다. 둘째 줄에 검색하고 싶은 단어가 주어진다. 이 길이는 최대 50이다. 문서와 단어는 알파벳 소문자와 공백으로 이루어져 있다.\n",
    "\n",
    "출력\n",
    "첫째 줄에 중복되지 않게 최대 몇 번 등장하는지 출력한다.\n",
    "\n",
    "예제 입력 1 \n",
    "ababababa\n",
    "aba\n",
    "예제 출력 1 \n",
    "2\n",
    "예제 입력 2 \n",
    "a a a a a\n",
    "a a\n",
    "예제 출력 2 \n",
    "2\n",
    "\n",
    "\"\"\""
   ]
  }
 ],
 "metadata": {
  "kernelspec": {
   "display_name": "Python 3",
   "language": "python",
   "name": "python3"
  },
  "language_info": {
   "codemirror_mode": {
    "name": "ipython",
    "version": 3
   },
   "file_extension": ".py",
   "mimetype": "text/x-python",
   "name": "python",
   "nbconvert_exporter": "python",
   "pygments_lexer": "ipython3",
   "version": "3.11.2"
  },
  "orig_nbformat": 4,
  "vscode": {
   "interpreter": {
    "hash": "aee8b7b246df8f9039afb4144a1f6fd8d2ca17a180786b69acc140d282b71a49"
   }
  }
 },
 "nbformat": 4,
 "nbformat_minor": 2
}
