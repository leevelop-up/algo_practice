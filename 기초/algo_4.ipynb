{
 "cells": [
  {
   "cell_type": "code",
   "execution_count": 7,
   "metadata": {},
   "outputs": [
    {
     "data": {
      "text/plain": [
       "31"
      ]
     },
     "execution_count": 7,
     "metadata": {},
     "output_type": "execute_result"
    }
   ],
   "source": [
    "cost_list = [1,50,100,500]\n",
    "\n",
    "def min_cost(value, cost_list):\n",
    "    coinCount = 0 #코인 개수\n",
    "    cost_list.sort(reverse = True) #가장 적은 수 임으로 값이 큰순으로 정렬\n",
    "    \n",
    "    for coin in cost_list:\n",
    "        coin_num = value // coin\n",
    "        coinCount += coin_num\n",
    "        value -= coin_num*coin\n",
    "\n",
    "    return coinCount\n",
    "\n",
    "min_cost(4720,cost_list)"
   ]
  },
  {
   "cell_type": "code",
   "execution_count": 8,
   "metadata": {},
   "outputs": [
    {
     "data": {
      "text/plain": [
       "'\\n지불해야하는 값이 4720원일때 1원 50원 100원 500원 동전으로 동전의 수가 가장 적게 지불하시오\\n\\n'"
      ]
     },
     "execution_count": 8,
     "metadata": {},
     "output_type": "execute_result"
    }
   ],
   "source": [
    "\"\"\"\n",
    "지불해야하는 값이 4720원일때 1원 50원 100원 500원 동전으로 동전의 수가 가장 적게 지불하시오\n",
    "\n",
    "\"\"\""
   ]
  }
 ],
 "metadata": {
  "kernelspec": {
   "display_name": "Python 3",
   "language": "python",
   "name": "python3"
  },
  "language_info": {
   "codemirror_mode": {
    "name": "ipython",
    "version": 3
   },
   "file_extension": ".py",
   "mimetype": "text/x-python",
   "name": "python",
   "nbconvert_exporter": "python",
   "pygments_lexer": "ipython3",
   "version": "3.11.2"
  },
  "orig_nbformat": 4,
  "vscode": {
   "interpreter": {
    "hash": "aee8b7b246df8f9039afb4144a1f6fd8d2ca17a180786b69acc140d282b71a49"
   }
  }
 },
 "nbformat": 4,
 "nbformat_minor": 2
}
