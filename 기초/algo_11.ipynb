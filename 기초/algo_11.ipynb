{
 "cells": [
  {
   "cell_type": "code",
   "execution_count": 49,
   "metadata": {},
   "outputs": [
    {
     "name": "stdout",
     "output_type": "stream",
     "text": [
      "[7, 0, 0, 0, 0]\n",
      "[3, 8, 0, 0, 0]\n",
      "[8, 1, 0, 0, 0]\n",
      "[2, 7, 4, 4, 0]\n",
      "[4, 5, 2, 6, 5]\n",
      "0 0\n",
      "0 7\n",
      "7 0\n",
      "0 10\n",
      "10 15\n",
      "15 0\n",
      "0 18\n",
      "18 16\n",
      "16 15\n",
      "15 0\n",
      "0 20\n",
      "20 25\n",
      "25 20\n",
      "20 19\n",
      "19 0\n",
      "15\n"
     ]
    }
   ],
   "source": [
    "N = int(input())\n",
    "A = [[0 for _ in range(N)] for i in range(N)]\n",
    "Dp = [[0 for _ in range(N)] for i in range(N)]\n",
    "for i in range(N):\n",
    "    tmp = list(map(int, input().split()))\n",
    "    for j in range(0, i+1):\n",
    "        A[i][j] = tmp[j]\n",
    "\n",
    "\n",
    "for i in range(N): # 0 1 2 3 4 \n",
    "    for j in range(0, i+1): #0 1 2 3 4 5 6\n",
    "        Dp[i][j] = max(Dp[i-1][j-1], Dp[i-1][j])+A[i][j]\n",
    "\n",
    "print(max(Dp[-1]))\n",
    "\n"
   ]
  },
  {
   "cell_type": "code",
   "execution_count": 50,
   "metadata": {},
   "outputs": [
    {
     "data": {
      "text/plain": [
       "'\\n백준 1932\\n맨 위층 7부터 시작해서 아래에 있는 수 중 하나를 선택하여 아래층으로 내려올 때, 이제까지 선택된 수의 합이 최대가 되는 경로를 구하는 프로그램을 작성하라. \\n아래층에 있는 수는 현재 층에서 선택된 수의 대각선 왼쪽 또는 대각선 오른쪽에 있는 것 중에서만 선택할 수 있다.\\n\\n삼각형의 크기는 1 이상 500 이하이다. 삼각형을 이루고 있는 각 수는 모두 정수이며, 범위는 0 이상 9999 이하이다.\\n\\n\\n첫째 줄에 삼각형의 크기 n(1 ≤ n ≤ 500)이 주어지고, 둘째 줄부터 n+1번째 줄까지 정수 삼각형이 주어진다.\\n\\n출력\\n첫째 줄에 합이 최대가 되는 경로에 있는 수의 합을 출력한다.\\n\\n예제 입력 1 \\n5\\n7\\n3 8\\n8 1 0\\n2 7 4 4\\n4 5 2 6 5\\n예제 출력 1 \\n30\\n\\n\\n\\n'"
      ]
     },
     "execution_count": 50,
     "metadata": {},
     "output_type": "execute_result"
    }
   ],
   "source": [
    "\"\"\"\n",
    "백준 1932\n",
    "맨 위층 7부터 시작해서 아래에 있는 수 중 하나를 선택하여 아래층으로 내려올 때, 이제까지 선택된 수의 합이 최대가 되는 경로를 구하는 프로그램을 작성하라. \n",
    "아래층에 있는 수는 현재 층에서 선택된 수의 대각선 왼쪽 또는 대각선 오른쪽에 있는 것 중에서만 선택할 수 있다.\n",
    "\n",
    "삼각형의 크기는 1 이상 500 이하이다. 삼각형을 이루고 있는 각 수는 모두 정수이며, 범위는 0 이상 9999 이하이다.\n",
    "\n",
    "\n",
    "첫째 줄에 삼각형의 크기 n(1 ≤ n ≤ 500)이 주어지고, 둘째 줄부터 n+1번째 줄까지 정수 삼각형이 주어진다.\n",
    "\n",
    "출력\n",
    "첫째 줄에 합이 최대가 되는 경로에 있는 수의 합을 출력한다.\n",
    "\n",
    "예제 입력 1 \n",
    "5\n",
    "7\n",
    "3 8\n",
    "8 1 0\n",
    "2 7 4 4\n",
    "4 5 2 6 5\n",
    "예제 출력 1 \n",
    "30\n",
    "\n",
    "\n",
    "\n",
    "\"\"\""
   ]
  }
 ],
 "metadata": {
  "kernelspec": {
   "display_name": "Python 3",
   "language": "python",
   "name": "python3"
  },
  "language_info": {
   "codemirror_mode": {
    "name": "ipython",
    "version": 3
   },
   "file_extension": ".py",
   "mimetype": "text/x-python",
   "name": "python",
   "nbconvert_exporter": "python",
   "pygments_lexer": "ipython3",
   "version": "3.11.2"
  },
  "orig_nbformat": 4,
  "vscode": {
   "interpreter": {
    "hash": "aee8b7b246df8f9039afb4144a1f6fd8d2ca17a180786b69acc140d282b71a49"
   }
  }
 },
 "nbformat": 4,
 "nbformat_minor": 2
}
