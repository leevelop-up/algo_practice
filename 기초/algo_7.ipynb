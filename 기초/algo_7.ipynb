{
 "cells": [
  {
   "cell_type": "code",
   "execution_count": 26,
   "metadata": {},
   "outputs": [
    {
     "name": "stdout",
     "output_type": "stream",
     "text": [
      "660\n"
     ]
    }
   ],
   "source": [
    "N, L, K = map(int, input().split())\n",
    "\n",
    "cnt1, cnt2 = 0, 0\n",
    "result = 0\n",
    "for i in range(N):\n",
    "    sub1, sub2 = map(int, input().split())\n",
    "\n",
    "    if sub2 <= L:\n",
    "        cnt2 +=1\n",
    "    elif sub1 <=L:\n",
    "        cnt1 +=1\n",
    "\n",
    "result = min(cnt2, K) * 140\n",
    "if cnt2 < K :\n",
    "    result += min(K-cnt2, cnt1) * 100\n",
    "\n",
    "print(result)\n",
    "\n",
    "\n"
   ]
  },
  {
   "cell_type": "code",
   "execution_count": 27,
   "metadata": {},
   "outputs": [
    {
     "data": {
      "text/plain": [
       "'\\n17224\\n현정이는 L 만큼의 역량을 가지고 있어 L보다 작거나 같은 난이도의 문제를 풀 수 있다. 또한 \\n현정이는 코딩이 느리기 때문에 대회 시간이 부족해 K개보다 많은 문제는 해결할 수 없다. 어떤 문제에 대해 쉬운 버전을 해결한다면 100점을 얻고, \\n어려운 버전을 해결한다면 여기에 40점을 더 받아 140점을 얻게 된다. 어려운 버전을 해결하면 쉬운 버전도 같이 풀리게 되므로, 한 문제를 해결한 것으로 계산한다.\\n\\n현정이가 APC에 참가했다면 최대 몇점을 얻을 수 있었을지 알려주자.\\n\\n입력\\n첫 줄에 문제의 개수 N, 현정이의 역량 L, 현정이가 대회중에 풀 수 있는 문제의 최대 개수 K가 주어진다.\\n\\n둘째 줄부터 N개의 줄에 걸쳐 1 ~ N번째 문제의 쉬운 버전의 난이도 sub1, 어려운 버전의 난이도 sub2 가 순서대로 주어진다.\\n\\n출력\\n현정이가 APC에 참가했다면 얻었을 점수의 최대값을 출력한다.\\n\\n제한\\n1 ≤ N ≤ 100\\n1 ≤ L ≤ 50\\n1 ≤ sub1 ≤ sub2 ≤ 50\\n서브태스크 1 (100점)\\nK = N\\n서브태스크 2 (40점)\\n0 ≤ K ≤ N\\n예제 입력 1 \\n4 8 4\\n1 8\\n4 5\\n6 20\\n9 12\\n예제 출력 1 \\n380\\n예제 입력 2 \\n8 7 5\\n1 3\\n2 5\\n3 5\\n4 8\\n5 8\\n6 9\\n6 7\\n7 10\\n예제 출력 2 \\n660\\n'"
      ]
     },
     "execution_count": 27,
     "metadata": {},
     "output_type": "execute_result"
    }
   ],
   "source": [
    "\"\"\"\n",
    "17224\n",
    "현정이는 L 만큼의 역량을 가지고 있어 L보다 작거나 같은 난이도의 문제를 풀 수 있다. 또한 \n",
    "현정이는 코딩이 느리기 때문에 대회 시간이 부족해 K개보다 많은 문제는 해결할 수 없다. 어떤 문제에 대해 쉬운 버전을 해결한다면 100점을 얻고, \n",
    "어려운 버전을 해결한다면 여기에 40점을 더 받아 140점을 얻게 된다. 어려운 버전을 해결하면 쉬운 버전도 같이 풀리게 되므로, 한 문제를 해결한 것으로 계산한다.\n",
    "\n",
    "현정이가 APC에 참가했다면 최대 몇점을 얻을 수 있었을지 알려주자.\n",
    "\n",
    "입력\n",
    "첫 줄에 문제의 개수 N, 현정이의 역량 L, 현정이가 대회중에 풀 수 있는 문제의 최대 개수 K가 주어진다.\n",
    "\n",
    "둘째 줄부터 N개의 줄에 걸쳐 1 ~ N번째 문제의 쉬운 버전의 난이도 sub1, 어려운 버전의 난이도 sub2 가 순서대로 주어진다.\n",
    "\n",
    "출력\n",
    "현정이가 APC에 참가했다면 얻었을 점수의 최대값을 출력한다.\n",
    "\n",
    "제한\n",
    "1 ≤ N ≤ 100\n",
    "1 ≤ L ≤ 50\n",
    "1 ≤ sub1 ≤ sub2 ≤ 50\n",
    "서브태스크 1 (100점)\n",
    "K = N\n",
    "서브태스크 2 (40점)\n",
    "0 ≤ K ≤ N\n",
    "예제 입력 1 \n",
    "4 8 4\n",
    "1 8\n",
    "4 5\n",
    "6 20\n",
    "9 12\n",
    "예제 출력 1 \n",
    "380\n",
    "예제 입력 2 \n",
    "8 7 5\n",
    "1 3\n",
    "2 5\n",
    "3 5\n",
    "4 8\n",
    "5 8\n",
    "6 9\n",
    "6 7\n",
    "7 10\n",
    "예제 출력 2 \n",
    "660\n",
    "\"\"\""
   ]
  }
 ],
 "metadata": {
  "kernelspec": {
   "display_name": "Python 3",
   "language": "python",
   "name": "python3"
  },
  "language_info": {
   "codemirror_mode": {
    "name": "ipython",
    "version": 3
   },
   "file_extension": ".py",
   "mimetype": "text/x-python",
   "name": "python",
   "nbconvert_exporter": "python",
   "pygments_lexer": "ipython3",
   "version": "3.11.2"
  },
  "orig_nbformat": 4,
  "vscode": {
   "interpreter": {
    "hash": "aee8b7b246df8f9039afb4144a1f6fd8d2ca17a180786b69acc140d282b71a49"
   }
  }
 },
 "nbformat": 4,
 "nbformat_minor": 2
}
